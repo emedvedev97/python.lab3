{
 "cells": [
  {
   "cell_type": "code",
   "execution_count": 1,
   "metadata": {},
   "outputs": [],
   "source": [
    "import pandas as pd\n",
    "from sklearn.svm import SVC\n",
    "from sklearn.model_selection import GridSearchCV\n",
    "import seaborn as sns\n",
    "import matplotlib.pyplot as plt\n",
    "import numpy as np"
   ]
  },
  {
   "cell_type": "code",
   "execution_count": 2,
   "metadata": {},
   "outputs": [],
   "source": [
    "x_train = pd.read_csv(\"/home/emedvedev/pythonLab/lab3/train.csv\")"
   ]
  },
  {
   "cell_type": "code",
   "execution_count": 3,
   "metadata": {},
   "outputs": [],
   "source": [
    "x_train , x_test = x_train[0:623].reset_index(drop=True) , x_train[624:891].reset_index(drop=True)"
   ]
  },
  {
   "cell_type": "code",
   "execution_count": 4,
   "metadata": {},
   "outputs": [],
   "source": [
    "y_test = x_test['Survived']\n",
    "y_train = x_train['Survived']"
   ]
  },
  {
   "cell_type": "code",
   "execution_count": 5,
   "metadata": {},
   "outputs": [],
   "source": [
    "def masFilter(mas):\n",
    "    mas = mas[[\"PassengerId\",\"Sex\",\"Age\",\"Pclass\"]].copy()\n",
    "    mas['Age'].fillna(mas['Age'].median(), inplace=True)\n",
    "    #mas['Fare'].fillna(mas['Fare'].median(), inplace=True)\n",
    "    mas['Sex'] = pd.factorize(mas['Sex'])[0]\n",
    "    \n",
    "    #print(mas)\n",
    "\n",
    "    return mas"
   ]
  },
  {
   "cell_type": "code",
   "execution_count": 6,
   "metadata": {},
   "outputs": [],
   "source": [
    "x_train = masFilter(x_train)\n",
    "x_test = masFilter(x_test)"
   ]
  },
  {
   "cell_type": "code",
   "execution_count": 22,
   "metadata": {},
   "outputs": [],
   "source": [
    "#param_grid = {'C':[1,10,100,1000],'gamma':[1,0.1,0.001,0.0001], 'kernel':['linear','rbf']}\n",
    "param_grid = {'C':[1,10,100,1000],'gamma':[1,0.1,0.001,0.0001], 'kernel':['linear','rbf']}"
   ]
  },
  {
   "cell_type": "code",
   "execution_count": null,
   "metadata": {
    "scrolled": true
   },
   "outputs": [
    {
     "name": "stdout",
     "output_type": "stream",
     "text": [
      "Fitting 5 folds for each of 32 candidates, totalling 160 fits\n"
     ]
    },
    {
     "name": "stderr",
     "output_type": "stream",
     "text": [
      "[Parallel(n_jobs=6)]: Using backend LokyBackend with 6 concurrent workers.\n",
      "[Parallel(n_jobs=6)]: Done  68 out of 160 | elapsed:    1.4s remaining:    1.9s\n"
     ]
    }
   ],
   "source": [
    "#grid = GridSearchCV(SVC(), param_grid, cv=5)\n",
    "import multiprocessing\n",
    "cores=multiprocessing.cpu_count()-2\n",
    "grid = GridSearchCV(SVC(),param_grid,refit = True, verbose=2, cv=5, n_jobs = cores)\n",
    "grid.fit(x_train[[\"Sex\",\"Age\",\"Pclass\"]], y_train)"
   ]
  },
  {
   "cell_type": "code",
   "execution_count": 9,
   "metadata": {
    "scrolled": true
   },
   "outputs": [
    {
     "name": "stdout",
     "output_type": "stream",
     "text": [
      "Наилучшие значения параметров: {'C': 100, 'gamma': 0.001, 'kernel': 'rbf'}\n",
      "Наилучшее значение кросс-валидац. правильности:0.80\n",
      "Правильность на тестовом наборе: 0.79\n"
     ]
    }
   ],
   "source": [
    "print(\"Наилучшие значения параметров: {}\".format(grid.best_params_))\n",
    "print(\"Наилучшее значение кросс-валидац. правильности:{:.2f}\".format(grid.best_score_))\n",
    "print(\"Правильность на тестовом наборе: {:.2f}\".format(grid.score(x_test[[\"Sex\",\"Age\",\"Pclass\"]], y_test)))"
   ]
  },
  {
   "cell_type": "code",
   "execution_count": 10,
   "metadata": {
    "scrolled": true
   },
   "outputs": [
    {
     "data": {
      "text/plain": [
       "array([0, 0, 0, 1, 0, 0, 0, 0, 0, 0, 1, 1, 0, 0, 1, 0, 0, 1, 1, 0, 1, 0,\n",
       "       0, 0, 0, 1, 0, 1, 0, 1, 1, 0, 0, 1, 0, 0, 0, 0, 0, 0, 0, 0, 0, 0,\n",
       "       0, 1, 1, 0, 0, 0, 0, 0, 0, 1, 1, 0, 1, 0, 0, 0, 0, 0, 0, 0, 0, 1,\n",
       "       0, 1, 0, 0, 0, 0, 0, 1, 0, 0, 1, 0, 1, 0, 0, 0, 1, 0, 1, 0, 1, 0,\n",
       "       0, 0, 0, 0, 1, 1, 0, 0, 1, 0, 0, 0, 0, 0, 1, 1, 0, 1, 1, 0, 0, 0,\n",
       "       0, 0, 1, 0, 0, 0, 0, 0, 1, 0, 0, 0, 0, 1, 0, 0, 1, 0, 0, 0, 1, 1,\n",
       "       0, 0, 0, 1, 0, 0, 0, 1, 0, 1, 0, 1, 0, 0, 0, 0, 1, 0, 1, 0, 0, 1,\n",
       "       0, 1, 1, 1, 0, 0, 0, 0, 1, 0, 0, 0, 0, 0, 1, 0, 0, 0, 1, 1, 0, 1,\n",
       "       0, 1, 0, 0, 0, 0, 0, 1, 0, 1, 0, 0, 0, 1, 0, 0, 1, 0, 0, 0, 1, 0,\n",
       "       0, 1, 0, 0, 0, 1, 0, 1, 1, 1, 0, 0, 0, 1, 0, 0, 0, 0, 0, 0, 1, 0,\n",
       "       0, 0, 0, 0, 0, 1, 0, 0, 1, 1, 1, 1, 1, 0, 1, 0, 0, 0, 1, 1, 0, 1,\n",
       "       1, 0, 0, 0, 0, 1, 0, 0, 1, 1, 0, 0, 0, 1, 1, 0, 1, 0, 0, 1, 0, 1,\n",
       "       1, 0, 0])"
      ]
     },
     "execution_count": 10,
     "metadata": {},
     "output_type": "execute_result"
    }
   ],
   "source": [
    "grid.best_estimator_.predict(x_test[[\"Sex\",\"Age\",\"Pclass\"]])"
   ]
  },
  {
   "cell_type": "code",
   "execution_count": 11,
   "metadata": {
    "scrolled": false
   },
   "outputs": [],
   "source": [
    "pred = pd.DataFrame({'Surv' : grid.best_estimator_.predict(x_test[[\"Sex\",\"Age\",\"Pclass\"]])})"
   ]
  },
  {
   "cell_type": "code",
   "execution_count": 12,
   "metadata": {},
   "outputs": [
    {
     "name": "stdout",
     "output_type": "stream",
     "text": [
      "     PassengerId  Sex   Age  Pclass  Surv\n",
      "0            625    0  21.0       3     0\n",
      "1            626    0  61.0       1     0\n",
      "2            627    0  57.0       2     0\n",
      "3            628    1  21.0       1     1\n",
      "4            629    0  26.0       3     0\n",
      "..           ...  ...   ...     ...   ...\n",
      "262          887    0  27.0       2     0\n",
      "263          888    1  19.0       1     1\n",
      "264          889    1  28.0       3     1\n",
      "265          890    0  26.0       1     0\n",
      "266          891    0  32.0       3     0\n",
      "\n",
      "[267 rows x 5 columns]\n"
     ]
    }
   ],
   "source": [
    "result = pd.concat([x_test,  pred],  axis=1)\n",
    "tests = pd.concat([x_test,  y_test],  axis=1)\n",
    "result.to_csv('/home/emedvedev/pythonLab/lab3/out.csv')\n",
    "print(result)"
   ]
  },
  {
   "cell_type": "code",
   "execution_count": 13,
   "metadata": {},
   "outputs": [
    {
     "name": "stdout",
     "output_type": "stream",
     "text": [
      "     PassengerId  Sex   Age  Pclass  Survived  Group\n",
      "0            625    0  21.0       3         0    2.0\n",
      "1            626    0  61.0       1         0    6.0\n",
      "2            627    0  57.0       2         0    5.0\n",
      "3            628    1  21.0       1         1    2.0\n",
      "4            629    0  26.0       3         0    2.0\n",
      "..           ...  ...   ...     ...       ...    ...\n",
      "262          887    0  27.0       2         0    2.0\n",
      "263          888    1  19.0       1         1    1.0\n",
      "264          889    1  28.0       3         0    2.0\n",
      "265          890    0  26.0       1         1    2.0\n",
      "266          891    0  32.0       3         0    3.0\n",
      "\n",
      "[267 rows x 6 columns]\n",
      "     PassengerId  Sex   Age  Pclass  Surv  Group\n",
      "0            625    0  21.0       3     0    2.0\n",
      "1            626    0  61.0       1     0    6.0\n",
      "2            627    0  57.0       2     0    5.0\n",
      "3            628    1  21.0       1     1    2.0\n",
      "4            629    0  26.0       3     0    2.0\n",
      "..           ...  ...   ...     ...   ...    ...\n",
      "262          887    0  27.0       2     0    2.0\n",
      "263          888    1  19.0       1     1    1.0\n",
      "264          889    1  28.0       3     1    2.0\n",
      "265          890    0  26.0       1     0    2.0\n",
      "266          891    0  32.0       3     0    3.0\n",
      "\n",
      "[267 rows x 6 columns]\n"
     ]
    }
   ],
   "source": [
    "def rule(x):\n",
    "    return (x // 10)\n",
    "\n",
    "result['Group'] = result.apply(lambda x: rule(x['Age']), axis =  1)\n",
    "tests['Group'] = tests.apply(lambda x: rule(x['Age']), axis =  1)\n",
    "print(tests)\n",
    "print(result)"
   ]
  },
  {
   "cell_type": "code",
   "execution_count": 14,
   "metadata": {},
   "outputs": [
    {
     "data": {
      "text/plain": [
       "RangeIndex(start=0, stop=267, step=1)"
      ]
     },
     "execution_count": 14,
     "metadata": {},
     "output_type": "execute_result"
    }
   ],
   "source": [
    "result.index"
   ]
  },
  {
   "cell_type": "code",
   "execution_count": 15,
   "metadata": {},
   "outputs": [],
   "source": [
    "pvt1 = result.pivot_table(index=['Group'], columns=['Surv', 'Sex'], values='PassengerId', aggfunc='count')\n",
    "pvt2 = tests.pivot_table(index=['Group'], columns=['Survived', 'Sex'], values='PassengerId', aggfunc='count')"
   ]
  },
  {
   "cell_type": "raw",
   "metadata": {},
   "source": [
    "pvt1 = result.pivot_table(index=['Group'],columns=['Sex', 'Surv'], values='Surv' ,aggfunc={'Sex': np.sum, 'Surv': np.sum})\n",
    "pvt2 = tests.pivot_table(index=['Group'],columns=['Sex', 'Survived'], values='Sex',aggfunc={'Sex': np.sum, 'Survived': np.sum})"
   ]
  },
  {
   "cell_type": "code",
   "execution_count": 16,
   "metadata": {
    "scrolled": true
   },
   "outputs": [
    {
     "name": "stdout",
     "output_type": "stream",
     "text": [
      "Surv      0    1      \n",
      "Sex       0    0     1\n",
      "Group                 \n",
      "0.0     7.0  3.0   9.0\n",
      "1.0    21.0  NaN  15.0\n",
      "2.0    83.0  NaN  26.0\n",
      "3.0    38.0  NaN  14.0\n",
      "4.0    16.0  NaN  13.0\n",
      "5.0     9.0  NaN   5.0\n",
      "6.0     3.0  NaN   1.0\n",
      "7.0     3.0  NaN   NaN\n",
      "8.0     1.0  NaN   NaN\n",
      "Survived     0          1      \n",
      "Sex          0    1     0     1\n",
      "Group                          \n",
      "0.0        3.0  4.0   7.0   5.0\n",
      "1.0       20.0  3.0   1.0  12.0\n",
      "2.0       70.0  7.0  13.0  19.0\n",
      "3.0       30.0  4.0   8.0  10.0\n",
      "4.0       13.0  4.0   3.0   9.0\n",
      "5.0        6.0  1.0   3.0   4.0\n",
      "6.0        3.0  NaN   NaN   1.0\n",
      "7.0        3.0  NaN   NaN   NaN\n",
      "8.0        NaN  NaN   1.0   NaN\n"
     ]
    }
   ],
   "source": [
    "print(pvt1)\n",
    "print(pvt2)"
   ]
  },
  {
   "cell_type": "code",
   "execution_count": 17,
   "metadata": {},
   "outputs": [
    {
     "data": {
      "text/plain": [
       "pandas.core.frame.DataFrame"
      ]
     },
     "execution_count": 17,
     "metadata": {},
     "output_type": "execute_result"
    }
   ],
   "source": [
    "type(pvt1)"
   ]
  },
  {
   "cell_type": "code",
   "execution_count": 18,
   "metadata": {
    "scrolled": true
   },
   "outputs": [
    {
     "data": {
      "text/html": [
       "<div>\n",
       "<style scoped>\n",
       "    .dataframe tbody tr th:only-of-type {\n",
       "        vertical-align: middle;\n",
       "    }\n",
       "\n",
       "    .dataframe tbody tr th {\n",
       "        vertical-align: top;\n",
       "    }\n",
       "\n",
       "    .dataframe thead tr th {\n",
       "        text-align: left;\n",
       "    }\n",
       "\n",
       "    .dataframe thead tr:last-of-type th {\n",
       "        text-align: right;\n",
       "    }\n",
       "</style>\n",
       "<table border=\"1\" class=\"dataframe\">\n",
       "  <thead>\n",
       "    <tr>\n",
       "      <th>Surv</th>\n",
       "      <th>0</th>\n",
       "      <th colspan=\"2\" halign=\"left\">1</th>\n",
       "    </tr>\n",
       "    <tr>\n",
       "      <th>Sex</th>\n",
       "      <th>0</th>\n",
       "      <th>0</th>\n",
       "      <th>1</th>\n",
       "    </tr>\n",
       "    <tr>\n",
       "      <th>Group</th>\n",
       "      <th></th>\n",
       "      <th></th>\n",
       "      <th></th>\n",
       "    </tr>\n",
       "  </thead>\n",
       "  <tbody>\n",
       "    <tr>\n",
       "      <td>0.0</td>\n",
       "      <td>7.0</td>\n",
       "      <td>3.0</td>\n",
       "      <td>9.0</td>\n",
       "    </tr>\n",
       "    <tr>\n",
       "      <td>1.0</td>\n",
       "      <td>21.0</td>\n",
       "      <td>NaN</td>\n",
       "      <td>15.0</td>\n",
       "    </tr>\n",
       "    <tr>\n",
       "      <td>2.0</td>\n",
       "      <td>83.0</td>\n",
       "      <td>NaN</td>\n",
       "      <td>26.0</td>\n",
       "    </tr>\n",
       "    <tr>\n",
       "      <td>3.0</td>\n",
       "      <td>38.0</td>\n",
       "      <td>NaN</td>\n",
       "      <td>14.0</td>\n",
       "    </tr>\n",
       "    <tr>\n",
       "      <td>4.0</td>\n",
       "      <td>16.0</td>\n",
       "      <td>NaN</td>\n",
       "      <td>13.0</td>\n",
       "    </tr>\n",
       "    <tr>\n",
       "      <td>5.0</td>\n",
       "      <td>9.0</td>\n",
       "      <td>NaN</td>\n",
       "      <td>5.0</td>\n",
       "    </tr>\n",
       "    <tr>\n",
       "      <td>6.0</td>\n",
       "      <td>3.0</td>\n",
       "      <td>NaN</td>\n",
       "      <td>1.0</td>\n",
       "    </tr>\n",
       "    <tr>\n",
       "      <td>7.0</td>\n",
       "      <td>3.0</td>\n",
       "      <td>NaN</td>\n",
       "      <td>NaN</td>\n",
       "    </tr>\n",
       "    <tr>\n",
       "      <td>8.0</td>\n",
       "      <td>1.0</td>\n",
       "      <td>NaN</td>\n",
       "      <td>NaN</td>\n",
       "    </tr>\n",
       "  </tbody>\n",
       "</table>\n",
       "</div>"
      ],
      "text/plain": [
       "Surv      0    1      \n",
       "Sex       0    0     1\n",
       "Group                 \n",
       "0.0     7.0  3.0   9.0\n",
       "1.0    21.0  NaN  15.0\n",
       "2.0    83.0  NaN  26.0\n",
       "3.0    38.0  NaN  14.0\n",
       "4.0    16.0  NaN  13.0\n",
       "5.0     9.0  NaN   5.0\n",
       "6.0     3.0  NaN   1.0\n",
       "7.0     3.0  NaN   NaN\n",
       "8.0     1.0  NaN   NaN"
      ]
     },
     "execution_count": 18,
     "metadata": {},
     "output_type": "execute_result"
    }
   ],
   "source": [
    "pvt1"
   ]
  },
  {
   "cell_type": "code",
   "execution_count": 19,
   "metadata": {
    "scrolled": true
   },
   "outputs": [
    {
     "data": {
      "text/html": [
       "<div>\n",
       "<style scoped>\n",
       "    .dataframe tbody tr th:only-of-type {\n",
       "        vertical-align: middle;\n",
       "    }\n",
       "\n",
       "    .dataframe tbody tr th {\n",
       "        vertical-align: top;\n",
       "    }\n",
       "\n",
       "    .dataframe thead tr th {\n",
       "        text-align: left;\n",
       "    }\n",
       "\n",
       "    .dataframe thead tr:last-of-type th {\n",
       "        text-align: right;\n",
       "    }\n",
       "</style>\n",
       "<table border=\"1\" class=\"dataframe\">\n",
       "  <thead>\n",
       "    <tr>\n",
       "      <th>Survived</th>\n",
       "      <th colspan=\"2\" halign=\"left\">0</th>\n",
       "      <th colspan=\"2\" halign=\"left\">1</th>\n",
       "    </tr>\n",
       "    <tr>\n",
       "      <th>Sex</th>\n",
       "      <th>0</th>\n",
       "      <th>1</th>\n",
       "      <th>0</th>\n",
       "      <th>1</th>\n",
       "    </tr>\n",
       "    <tr>\n",
       "      <th>Group</th>\n",
       "      <th></th>\n",
       "      <th></th>\n",
       "      <th></th>\n",
       "      <th></th>\n",
       "    </tr>\n",
       "  </thead>\n",
       "  <tbody>\n",
       "    <tr>\n",
       "      <td>0.0</td>\n",
       "      <td>3.0</td>\n",
       "      <td>4.0</td>\n",
       "      <td>7.0</td>\n",
       "      <td>5.0</td>\n",
       "    </tr>\n",
       "    <tr>\n",
       "      <td>1.0</td>\n",
       "      <td>20.0</td>\n",
       "      <td>3.0</td>\n",
       "      <td>1.0</td>\n",
       "      <td>12.0</td>\n",
       "    </tr>\n",
       "    <tr>\n",
       "      <td>2.0</td>\n",
       "      <td>70.0</td>\n",
       "      <td>7.0</td>\n",
       "      <td>13.0</td>\n",
       "      <td>19.0</td>\n",
       "    </tr>\n",
       "    <tr>\n",
       "      <td>3.0</td>\n",
       "      <td>30.0</td>\n",
       "      <td>4.0</td>\n",
       "      <td>8.0</td>\n",
       "      <td>10.0</td>\n",
       "    </tr>\n",
       "    <tr>\n",
       "      <td>4.0</td>\n",
       "      <td>13.0</td>\n",
       "      <td>4.0</td>\n",
       "      <td>3.0</td>\n",
       "      <td>9.0</td>\n",
       "    </tr>\n",
       "    <tr>\n",
       "      <td>5.0</td>\n",
       "      <td>6.0</td>\n",
       "      <td>1.0</td>\n",
       "      <td>3.0</td>\n",
       "      <td>4.0</td>\n",
       "    </tr>\n",
       "    <tr>\n",
       "      <td>6.0</td>\n",
       "      <td>3.0</td>\n",
       "      <td>NaN</td>\n",
       "      <td>NaN</td>\n",
       "      <td>1.0</td>\n",
       "    </tr>\n",
       "    <tr>\n",
       "      <td>7.0</td>\n",
       "      <td>3.0</td>\n",
       "      <td>NaN</td>\n",
       "      <td>NaN</td>\n",
       "      <td>NaN</td>\n",
       "    </tr>\n",
       "    <tr>\n",
       "      <td>8.0</td>\n",
       "      <td>NaN</td>\n",
       "      <td>NaN</td>\n",
       "      <td>1.0</td>\n",
       "      <td>NaN</td>\n",
       "    </tr>\n",
       "  </tbody>\n",
       "</table>\n",
       "</div>"
      ],
      "text/plain": [
       "Survived     0          1      \n",
       "Sex          0    1     0     1\n",
       "Group                          \n",
       "0.0        3.0  4.0   7.0   5.0\n",
       "1.0       20.0  3.0   1.0  12.0\n",
       "2.0       70.0  7.0  13.0  19.0\n",
       "3.0       30.0  4.0   8.0  10.0\n",
       "4.0       13.0  4.0   3.0   9.0\n",
       "5.0        6.0  1.0   3.0   4.0\n",
       "6.0        3.0  NaN   NaN   1.0\n",
       "7.0        3.0  NaN   NaN   NaN\n",
       "8.0        NaN  NaN   1.0   NaN"
      ]
     },
     "execution_count": 19,
     "metadata": {},
     "output_type": "execute_result"
    }
   ],
   "source": [
    "pvt2"
   ]
  },
  {
   "cell_type": "code",
   "execution_count": 20,
   "metadata": {
    "scrolled": false
   },
   "outputs": [
    {
     "data": {
      "image/png": "[encoded data removed]",
      "text/plain": [
       "<Figure size 720x720 with 1 Axes>"
      ]
     },
     "metadata": {
      "needs_background": "light"
     },
     "output_type": "display_data"
    },
    {
     "data": {
      "image/png": "[encoded data removed]",
      "text/plain": [
       "<Figure size 720x720 with 1 Axes>"
      ]
     },
     "metadata": {
      "needs_background": "light"
     },
     "output_type": "display_data"
    }
   ],
   "source": [
    "pvt1.plot(kind='bar', title =\"predict\", figsize=(10, 10), legend=True, fontsize=14, stacked=True)\n",
    "pvt2.plot(kind='bar', title =\"real\", figsize=(10, 10), legend=True, fontsize=14 , stacked=True)\n",
    "plt.show()"
   ]
  }
 ],
 "metadata": {
  "kernelspec": {
   "display_name": "Python 3",
   "language": "python",
   "name": "python3"
  },
  "language_info": {
   "codemirror_mode": {
    "name": "ipython",
    "version": 3
   },
   "file_extension": ".py",
   "mimetype": "text/x-python",
   "name": "python",
   "nbconvert_exporter": "python",
   "pygments_lexer": "ipython3",
   "version": "3.6.8"
  }
 },
 "nbformat": 4,
 "nbformat_minor": 2
}
